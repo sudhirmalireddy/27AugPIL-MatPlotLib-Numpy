{
 "cells": [
  {
   "cell_type": "code",
   "execution_count": null,
   "id": "c5cabbd7-17d8-4b5a-aab7-edaebfadf1ed",
   "metadata": {},
   "outputs": [],
   "source": [
    "import numpy as np"
   ]
  },
  {
   "cell_type": "code",
   "execution_count": null,
   "id": "625543d9-8038-46bf-816a-c089fbcc65ab",
   "metadata": {},
   "outputs": [],
   "source": [
    "ones_arr = np.ones((3,3))"
   ]
  },
  {
   "cell_type": "code",
   "execution_count": null,
   "id": "dc258d69-ce24-4a4c-8a17-2c27bac987c1",
   "metadata": {},
   "outputs": [],
   "source": [
    "ones_arr"
   ]
  },
  {
   "cell_type": "code",
   "execution_count": null,
   "id": "ca8bf6a7-a82e-42b5-b1da-b837fce7a96c",
   "metadata": {},
   "outputs": [],
   "source": [
    "ones_arr = np.ones((5,5),dtype=int)"
   ]
  },
  {
   "cell_type": "code",
   "execution_count": null,
   "id": "0252aad8-97cf-4d8f-b996-4f26e94472ac",
   "metadata": {},
   "outputs": [],
   "source": [
    "ones_arr"
   ]
  },
  {
   "cell_type": "code",
   "execution_count": null,
   "id": "c13c7cb8-843f-4824-9bbf-6f01d7ae2042",
   "metadata": {},
   "outputs": [],
   "source": [
    "zeros_arr = np.zeros((3,3), dtype = int)"
   ]
  },
  {
   "cell_type": "code",
   "execution_count": null,
   "id": "3559627e-e02d-475f-808a-977283606a6b",
   "metadata": {},
   "outputs": [],
   "source": [
    "zeros_arr"
   ]
  },
  {
   "cell_type": "code",
   "execution_count": null,
   "id": "ffc0c1a8-92f0-408d-9972-87380bc382f0",
   "metadata": {},
   "outputs": [],
   "source": [
    "ones_arr"
   ]
  },
  {
   "cell_type": "code",
   "execution_count": null,
   "id": "e6f322d4-e409-49f4-b377-f5d0c9de8f0e",
   "metadata": {},
   "outputs": [],
   "source": [
    "ones_arr * 255"
   ]
  },
  {
   "cell_type": "code",
   "execution_count": null,
   "id": "df201acd-36b9-48ad-9d6f-de52859c5748",
   "metadata": {},
   "outputs": [],
   "source": [
    "zeros_arr"
   ]
  },
  {
   "cell_type": "code",
   "execution_count": null,
   "id": "ff37e818-778b-401b-872a-46c8cb1406d8",
   "metadata": {},
   "outputs": [],
   "source": [
    "ones_arr"
   ]
  },
  {
   "cell_type": "code",
   "execution_count": null,
   "id": "966d000b-afd6-4913-ac10-5542a41a09a2",
   "metadata": {},
   "outputs": [],
   "source": [
    "import matplotlib.pyplot as plt"
   ]
  },
  {
   "cell_type": "code",
   "execution_count": null,
   "id": "5e3d9df8-7ae9-424f-bc63-a302180524ca",
   "metadata": {},
   "outputs": [],
   "source": [
    "%matplotlib inline"
   ]
  },
  {
   "cell_type": "code",
   "execution_count": null,
   "id": "2416d196-fe44-46c4-b15b-6d03b5f19afb",
   "metadata": {},
   "outputs": [],
   "source": [
    "from PIL import Image # python imaging library "
   ]
  },
  {
   "cell_type": "code",
   "execution_count": null,
   "id": "51b003e2-0bc8-48c8-9fab-6ff8b8c5a1ab",
   "metadata": {
    "scrolled": true
   },
   "outputs": [],
   "source": [
    "#horse_img = Image.open('C:\\Users\\A3MAX SOFTWARE TECH\\Desktop\\WORK\\1. KODI WORK\\1. NARESH\\10. WORKSHOP\\8. Exploring Generative AI through computer vision\\horse1.jpg')"
   ]
  },
  {
   "cell_type": "code",
   "execution_count": null,
   "id": "eb0466da-7088-485b-a90b-0f30a7a41772",
   "metadata": {},
   "outputs": [],
   "source": [
    "horse_img = Image.open(r'C:\\Users\\A3MAX SOFTWARE TECH\\Desktop\\WORK\\1. KODI WORK\\1. NARESH\\10. WORKSHOP\\7. Exploring Generative AI through computer vision\\horse1.jpg')"
   ]
  },
  {
   "cell_type": "code",
   "execution_count": null,
   "id": "cdb64978-b637-493c-83c7-7938690ff646",
   "metadata": {},
   "outputs": [],
   "source": [
    "horse_img"
   ]
  },
  {
   "cell_type": "code",
   "execution_count": null,
   "id": "b3932b2e-33ed-408a-9bc5-6bcf70b6a2ce",
   "metadata": {},
   "outputs": [],
   "source": [
    "#my_img = Image.open(r'C:\\Users\\A3MAX SOFTWARE TECH\\Desktop\\WORK\\1. KODI WORK\\1. NARESH\\10. WORKSHOP\\8. Exploring Generative AI through computer vision\\myimage.jpg')"
   ]
  },
  {
   "cell_type": "code",
   "execution_count": null,
   "id": "701688c6-0e02-4f12-8433-a08f6da3ec0c",
   "metadata": {},
   "outputs": [],
   "source": [
    "#my_img"
   ]
  },
  {
   "cell_type": "code",
   "execution_count": null,
   "id": "a46aff3d-78ae-498d-89ac-b6816d21abad",
   "metadata": {},
   "outputs": [],
   "source": [
    "type(horse_img)"
   ]
  },
  {
   "cell_type": "code",
   "execution_count": null,
   "id": "0b310df9-a3ce-4b00-bb41-309f3f249792",
   "metadata": {},
   "outputs": [],
   "source": [
    "horse_arr = np.asarray(horse_img)\n",
    "horse_arr"
   ]
  },
  {
   "cell_type": "code",
   "execution_count": null,
   "id": "73176c21-11a1-4738-97f2-1a4ea41855e7",
   "metadata": {},
   "outputs": [],
   "source": [
    "type(horse_arr)"
   ]
  },
  {
   "cell_type": "code",
   "execution_count": null,
   "id": "babf1ad0-8c1e-4e9a-8be2-fd8afda8cf20",
   "metadata": {},
   "outputs": [],
   "source": [
    "horse_arr.shape"
   ]
  },
  {
   "cell_type": "code",
   "execution_count": null,
   "id": "79d0d909-3344-4648-82e5-8c0bfa3042cb",
   "metadata": {},
   "outputs": [],
   "source": [
    "plt.imshow(horse_arr)"
   ]
  },
  {
   "cell_type": "code",
   "execution_count": null,
   "id": "5724d605-9984-4853-9c5d-036060a1a3e3",
   "metadata": {},
   "outputs": [],
   "source": [
    "horse_red = horse_arr.copy()"
   ]
  },
  {
   "cell_type": "code",
   "execution_count": null,
   "id": "f935fddd-e4f3-4805-bedc-7dbb3ecb55a8",
   "metadata": {},
   "outputs": [],
   "source": [
    "horse_red"
   ]
  },
  {
   "cell_type": "code",
   "execution_count": null,
   "id": "9a337758-72b1-4f9b-a87f-1505a439fe8d",
   "metadata": {},
   "outputs": [],
   "source": [
    "horse_arr == horse_red"
   ]
  },
  {
   "cell_type": "code",
   "execution_count": null,
   "id": "2b353f6b-12de-4811-b677-cba573ba5442",
   "metadata": {},
   "outputs": [],
   "source": [
    "plt.imshow(horse_red)"
   ]
  },
  {
   "cell_type": "code",
   "execution_count": null,
   "id": "5ab0e3bb-97bb-48eb-9e89-4b617d2fcff4",
   "metadata": {},
   "outputs": [],
   "source": [
    "horse_red.shape"
   ]
  },
  {
   "cell_type": "code",
   "execution_count": null,
   "id": "238b9d1a-9aac-4ea3-b6e9-a10647e7cea7",
   "metadata": {},
   "outputs": [],
   "source": [
    "# R G B\n",
    "\n",
    "plt.imshow(horse_red[:,:,0])"
   ]
  },
  {
   "cell_type": "code",
   "execution_count": null,
   "id": "dcb99b08-497d-4b76-bde7-c312b41444e2",
   "metadata": {},
   "outputs": [],
   "source": [
    "horse_red[:,:,0]"
   ]
  },
  {
   "cell_type": "code",
   "execution_count": null,
   "id": "66b4d18a-e15c-46bd-a187-0cc965f90b94",
   "metadata": {},
   "outputs": [],
   "source": [
    "plt.imshow(horse_red[:,:,0], cmap='Greys')"
   ]
  },
  {
   "cell_type": "code",
   "execution_count": null,
   "id": "0f043fab-9709-41a9-a9f4-3961d6a6c918",
   "metadata": {},
   "outputs": [],
   "source": [
    "plt.imshow(horse_red[:,:,1], cmap='grey')"
   ]
  },
  {
   "cell_type": "code",
   "execution_count": null,
   "id": "93ac3a01-94c5-4758-8580-b00673a80024",
   "metadata": {},
   "outputs": [],
   "source": [
    "plt.imshow(horse_red[:,:,2], cmap='grey')"
   ]
  },
  {
   "cell_type": "code",
   "execution_count": null,
   "id": "3e988011-0842-4266-987a-7d84a6523505",
   "metadata": {},
   "outputs": [],
   "source": [
    "horse_red[:,:,0]"
   ]
  },
  {
   "cell_type": "code",
   "execution_count": null,
   "id": "08c3cff4-f542-47d0-9642-730c2b9eac44",
   "metadata": {},
   "outputs": [],
   "source": [
    "horse_red[:,:,1]"
   ]
  },
  {
   "cell_type": "code",
   "execution_count": null,
   "id": "c9d2a4e2-72a1-4ca7-bf52-ae7c6009aedf",
   "metadata": {},
   "outputs": [],
   "source": [
    "horse_red[:,:,2]"
   ]
  },
  {
   "cell_type": "code",
   "execution_count": null,
   "id": "757a827a-57d2-4421-ba58-b0687a00f251",
   "metadata": {},
   "outputs": [],
   "source": [
    "horse_red[:,:,1] = 0"
   ]
  },
  {
   "cell_type": "code",
   "execution_count": null,
   "id": "8fdb1a8d-8871-42b8-826e-4fbb636a1d7e",
   "metadata": {},
   "outputs": [],
   "source": [
    "horse_red[:,:,1]"
   ]
  },
  {
   "cell_type": "code",
   "execution_count": null,
   "id": "6f192309-c804-44e6-a5ff-4cdc96284d85",
   "metadata": {},
   "outputs": [],
   "source": [
    "plt.imshow(horse_red)"
   ]
  },
  {
   "cell_type": "code",
   "execution_count": null,
   "id": "3d9bf2e1-860f-4e7c-8a80-3cc889d0e725",
   "metadata": {},
   "outputs": [],
   "source": [
    "horse_red[:,:,2] "
   ]
  },
  {
   "cell_type": "code",
   "execution_count": null,
   "id": "662e5dda-f63e-41bc-96c5-69ceca07f727",
   "metadata": {},
   "outputs": [],
   "source": [
    "horse_red[:,:,2]  = 0"
   ]
  },
  {
   "cell_type": "code",
   "execution_count": null,
   "id": "24549d25-22e4-4e95-b23a-d4c1f21b1a12",
   "metadata": {},
   "outputs": [],
   "source": [
    "horse_red[:,:,2] "
   ]
  },
  {
   "cell_type": "code",
   "execution_count": null,
   "id": "c92c2a8a-ddf9-437b-bd8e-e2fc64916485",
   "metadata": {},
   "outputs": [],
   "source": [
    "plt.imshow(horse_red)"
   ]
  },
  {
   "cell_type": "code",
   "execution_count": null,
   "id": "af765ca9-26be-4313-aaa3-7d0783a99681",
   "metadata": {},
   "outputs": [],
   "source": [
    "horse_arr"
   ]
  },
  {
   "cell_type": "code",
   "execution_count": null,
   "id": "d8cd9517-0400-4724-9f40-fcfb95753fae",
   "metadata": {},
   "outputs": [],
   "source": [
    "horse_red"
   ]
  },
  {
   "cell_type": "code",
   "execution_count": null,
   "id": "365a135c-ba26-463c-b5f6-863af2bd6bb4",
   "metadata": {},
   "outputs": [],
   "source": [
    "horse_img"
   ]
  },
  {
   "cell_type": "code",
   "execution_count": null,
   "id": "c94a835e-55d1-458b-beaa-f65e4182a9cc",
   "metadata": {},
   "outputs": [],
   "source": [
    "arr1 = np.asarray(horse_img)"
   ]
  },
  {
   "cell_type": "code",
   "execution_count": null,
   "id": "cbf1786a-8fad-433e-bc0b-27bc1dcd9e09",
   "metadata": {},
   "outputs": [],
   "source": [
    "type(arr1)"
   ]
  },
  {
   "cell_type": "code",
   "execution_count": null,
   "id": "7f90d05f-2c12-4f9b-ab94-7a3de85ebd25",
   "metadata": {},
   "outputs": [],
   "source": [
    "arr1.shape"
   ]
  },
  {
   "cell_type": "code",
   "execution_count": null,
   "id": "6e94e82e-91dc-436c-b5d8-2b91e5c51aec",
   "metadata": {},
   "outputs": [],
   "source": [
    "plt.imshow(arr1)"
   ]
  },
  {
   "cell_type": "code",
   "execution_count": null,
   "id": "7c8a0eaf-f437-49d8-b44c-f1821f9a6189",
   "metadata": {},
   "outputs": [],
   "source": [
    "horse_img1 = arr1.copy()"
   ]
  },
  {
   "cell_type": "code",
   "execution_count": null,
   "id": "b3e38231-ce77-4cef-83e4-35305f2f5bdb",
   "metadata": {},
   "outputs": [],
   "source": [
    "horse_img1[:,:,0] = 0"
   ]
  },
  {
   "cell_type": "code",
   "execution_count": null,
   "id": "d5d774d4-d000-45c4-b955-2b3d00097646",
   "metadata": {},
   "outputs": [],
   "source": [
    "plt.imshow(horse_img1)"
   ]
  },
  {
   "cell_type": "code",
   "execution_count": null,
   "id": "70dcb6a6-9b16-49bc-b79b-e546031f2b58",
   "metadata": {},
   "outputs": [],
   "source": [
    "horse_img1[:,:,1]"
   ]
  },
  {
   "cell_type": "code",
   "execution_count": null,
   "id": "c348007c-1c64-47ff-b28d-d8a5c163558f",
   "metadata": {},
   "outputs": [],
   "source": [
    "horse_img1[:,:,1] = 0"
   ]
  },
  {
   "cell_type": "code",
   "execution_count": null,
   "id": "b27428e2-82c8-41e7-905b-252a8166db6b",
   "metadata": {},
   "outputs": [],
   "source": [
    "plt.imshow(horse_img1)"
   ]
  },
  {
   "cell_type": "markdown",
   "id": "5db514e3-7642-4059-8f55-8dcb89a31860",
   "metadata": {},
   "source": [
    "# practicle 1 is completed "
   ]
  },
  {
   "cell_type": "code",
   "execution_count": null,
   "id": "61d6b36c-ce2e-4f35-8f9b-72ce9844cb1c",
   "metadata": {},
   "outputs": [],
   "source": []
  }
 ],
 "metadata": {
  "kernelspec": {
   "display_name": "Python 3 (ipykernel)",
   "language": "python",
   "name": "python3"
  },
  "language_info": {
   "codemirror_mode": {
    "name": "ipython",
    "version": 3
   },
   "file_extension": ".py",
   "mimetype": "text/x-python",
   "name": "python",
   "nbconvert_exporter": "python",
   "pygments_lexer": "ipython3",
   "version": "3.11.7"
  }
 },
 "nbformat": 4,
 "nbformat_minor": 5
}
